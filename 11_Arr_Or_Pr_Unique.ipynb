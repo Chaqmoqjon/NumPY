{
  "nbformat": 4,
  "nbformat_minor": 0,
  "metadata": {
    "colab": {
      "provenance": [],
      "authorship_tag": "ABX9TyOVg2XbaWiTx5BtYGBvSX1W",
      "include_colab_link": true
    },
    "kernelspec": {
      "name": "python3",
      "display_name": "Python 3"
    },
    "language_info": {
      "name": "python"
    }
  },
  "cells": [
    {
      "cell_type": "markdown",
      "metadata": {
        "id": "view-in-github",
        "colab_type": "text"
      },
      "source": [
        "<a href=\"https://colab.research.google.com/github/Chaqmoqjon/NumPY/blob/main/11_Arr_Or_Pr_Unique.ipynb\" target=\"_parent\"><img src=\"https://colab.research.google.com/assets/colab-badge.svg\" alt=\"Open In Colab\"/></a>"
      ]
    },
    {
      "cell_type": "code",
      "execution_count": null,
      "metadata": {
        "id": "kL_hClEgHCSX"
      },
      "outputs": [],
      "source": [
        "import numpy as np"
      ]
    },
    {
      "cell_type": "code",
      "source": [
        "names = np.array(['Sardorbek', 'Bekzodbek', 'Nomonjon', 'Boburbek', 'Islombek', 'Samandar', 'Islombek'])\n",
        "ints = np.array([3, 3, 3, 2, 2, 1, 1, 4, 4])"
      ],
      "metadata": {
        "id": "yMsXOOQeHEmW"
      },
      "execution_count": null,
      "outputs": []
    },
    {
      "cell_type": "code",
      "source": [
        "np.unique(names)  #array dagi qiymatlarni faqat bittadan qaytaradi. Dublikatlarsiz. Tartiblangan tartibda chiqadi"
      ],
      "metadata": {
        "colab": {
          "base_uri": "https://localhost:8080/"
        },
        "id": "SmE_L3kKH5eE",
        "outputId": "225e5b8a-a36d-4cdc-b368-53cc88e8b336"
      },
      "execution_count": null,
      "outputs": [
        {
          "output_type": "execute_result",
          "data": {
            "text/plain": [
              "array(['Bekzodbek', 'Boburbek', 'Humoyun', 'Islombek', 'Nomonjon',\n",
              "       'Sardorbek', 'Smandar'], dtype='<U9')"
            ]
          },
          "metadata": {},
          "execution_count": 4
        }
      ]
    },
    {
      "cell_type": "code",
      "source": [
        "arr1 = np.array([6, 0, 0, 3, 2, 5, 6])\n",
        "arr2 = np.array([0, 2, 3])"
      ],
      "metadata": {
        "id": "3We5vx_vITBv"
      },
      "execution_count": null,
      "outputs": []
    },
    {
      "cell_type": "code",
      "source": [
        "np.in1d(arr1, arr2)  # arr1  True qaytaradi agarda arr2 da bir xil qiymat bo'lsa"
      ],
      "metadata": {
        "colab": {
          "base_uri": "https://localhost:8080/"
        },
        "id": "WSXvGO5UJfaL",
        "outputId": "5e2075aa-da0c-4c70-c9a3-937ff1cc0a6e"
      },
      "execution_count": null,
      "outputs": [
        {
          "output_type": "execute_result",
          "data": {
            "text/plain": [
              "array([False,  True,  True,  True,  True, False, False])"
            ]
          },
          "metadata": {},
          "execution_count": 6
        }
      ]
    },
    {
      "cell_type": "code",
      "source": [
        "names1 = np.array(['Sardorbek', 'Bekzodbek', 'Nomonjon', 'Boburbek', 'Islombek', 'Samandar', 'Islombek'])\n",
        "names2 = np.array(['Olimxon', 'Bekzodbek', 'Hasanbek', 'Boburbek', 'Islombek', 'Beruniy', 'Islombek'])"
      ],
      "metadata": {
        "id": "XPJfYp4XJonR"
      },
      "execution_count": null,
      "outputs": []
    },
    {
      "cell_type": "code",
      "source": [
        "np.setdiff1d(names1, names2)  # names1 da bor lekin names2 da yo'q elementlar ro'yxati, manda borlari ro'yxati"
      ],
      "metadata": {
        "colab": {
          "base_uri": "https://localhost:8080/"
        },
        "id": "a16rxmcTLvf3",
        "outputId": "2cd4ff05-9acd-40ab-be44-74dd7ba9eefe"
      },
      "execution_count": null,
      "outputs": [
        {
          "output_type": "execute_result",
          "data": {
            "text/plain": [
              "array(['Nomonjon', 'Samandar', 'Sardorbek'], dtype='<U9')"
            ]
          },
          "metadata": {},
          "execution_count": 11
        }
      ]
    },
    {
      "cell_type": "code",
      "source": [
        "np.setdiff1d(names2, names1) # names2 da bor lekin names1 da yo'q elementlar ro'yxati, manda borlari ro'yxati"
      ],
      "metadata": {
        "colab": {
          "base_uri": "https://localhost:8080/"
        },
        "id": "qnXcwm23L4SF",
        "outputId": "9a6dfbaa-e5d6-4afc-dac2-9c62eecd83d9"
      },
      "execution_count": null,
      "outputs": [
        {
          "output_type": "execute_result",
          "data": {
            "text/plain": [
              "array(['Beruniy', 'Hasanbek', 'Olimxon'], dtype='<U9')"
            ]
          },
          "metadata": {},
          "execution_count": 13
        }
      ]
    }
  ]
}