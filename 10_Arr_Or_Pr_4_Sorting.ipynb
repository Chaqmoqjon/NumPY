{
  "nbformat": 4,
  "nbformat_minor": 0,
  "metadata": {
    "colab": {
      "provenance": [],
      "authorship_tag": "ABX9TyNM6ji1sUJ8wSs74Fq3gUNm",
      "include_colab_link": true
    },
    "kernelspec": {
      "name": "python3",
      "display_name": "Python 3"
    },
    "language_info": {
      "name": "python"
    }
  },
  "cells": [
    {
      "cell_type": "markdown",
      "metadata": {
        "id": "view-in-github",
        "colab_type": "text"
      },
      "source": [
        "<a href=\"https://colab.research.google.com/github/Chaqmoqjon/NumPY/blob/main/10_Arr_Or_Pr_4_Sorting.ipynb\" target=\"_parent\"><img src=\"https://colab.research.google.com/assets/colab-badge.svg\" alt=\"Open In Colab\"/></a>"
      ]
    },
    {
      "cell_type": "code",
      "execution_count": null,
      "metadata": {
        "id": "dGY-7igqBHSO"
      },
      "outputs": [],
      "source": [
        "import numpy as np"
      ]
    },
    {
      "cell_type": "code",
      "source": [
        "arr = np.random.rand(4)  # 0 va 1 oralig'idagi random sonlar\n",
        "arr"
      ],
      "metadata": {
        "colab": {
          "base_uri": "https://localhost:8080/"
        },
        "id": "7sVOBEnbBW1d",
        "outputId": "25eec5b7-d5cf-4379-8f4d-4764d5e63c1b"
      },
      "execution_count": null,
      "outputs": [
        {
          "output_type": "execute_result",
          "data": {
            "text/plain": [
              "array([0.61285851, 0.28081987, 0.02085002, 0.33971486])"
            ]
          },
          "metadata": {},
          "execution_count": 2
        }
      ]
    },
    {
      "cell_type": "code",
      "source": [
        "# 1-usul\n",
        "sorted_arr = np.sort(arr)  # tartiblab o'zgaruvchiga saqlaydi\n",
        "sorted_arr"
      ],
      "metadata": {
        "colab": {
          "base_uri": "https://localhost:8080/"
        },
        "id": "tR6PV5ovBeNc",
        "outputId": "5b23b261-ee79-49df-9341-1b831a045d8f"
      },
      "execution_count": null,
      "outputs": [
        {
          "output_type": "execute_result",
          "data": {
            "text/plain": [
              "array([0.02085002, 0.28081987, 0.33971486, 0.61285851])"
            ]
          },
          "metadata": {},
          "execution_count": 4
        }
      ]
    },
    {
      "cell_type": "code",
      "source": [
        "# 2- usul\n",
        "arr.sort()  # yangidan tartiblab joylaydi\n",
        "arr"
      ],
      "metadata": {
        "colab": {
          "base_uri": "https://localhost:8080/"
        },
        "id": "7Eq0B1v3Bn4K",
        "outputId": "c6dbb939-a7c9-4558-e923-987ab4bbc7b2"
      },
      "execution_count": null,
      "outputs": [
        {
          "output_type": "execute_result",
          "data": {
            "text/plain": [
              "array([0.02085002, 0.28081987, 0.33971486, 0.61285851])"
            ]
          },
          "metadata": {},
          "execution_count": 5
        }
      ]
    },
    {
      "cell_type": "code",
      "source": [
        "rev_arr = -np.sort(-arr) # teskari tartibda tartiblash\n",
        "rev_arr"
      ],
      "metadata": {
        "colab": {
          "base_uri": "https://localhost:8080/"
        },
        "id": "rq3l-CdlCSnW",
        "outputId": "6266caee-36f7-4567-f63a-b2ab2de169ba"
      },
      "execution_count": null,
      "outputs": [
        {
          "output_type": "execute_result",
          "data": {
            "text/plain": [
              "array([0.61285851, 0.33971486, 0.28081987, 0.02085002])"
            ]
          },
          "metadata": {},
          "execution_count": 6
        }
      ]
    },
    {
      "cell_type": "code",
      "source": [
        "arr2d = np.random.randn(2, 4)\n",
        "arr2d"
      ],
      "metadata": {
        "colab": {
          "base_uri": "https://localhost:8080/"
        },
        "id": "whHctbZHCsGO",
        "outputId": "8770b240-c70a-47b5-d935-fbc550fb83d7"
      },
      "execution_count": null,
      "outputs": [
        {
          "output_type": "execute_result",
          "data": {
            "text/plain": [
              "array([[ 0.47115108,  1.60604069,  0.26625441, -0.20538351],\n",
              "       [ 0.40894718, -0.26683279,  2.38829654,  1.70063403]])"
            ]
          },
          "metadata": {},
          "execution_count": 8
        }
      ]
    },
    {
      "cell_type": "code",
      "source": [
        "col_sort = np.sort(arr2d, axis = 0) # ustunlar bo'yicha tartiblash\n",
        "col_sort"
      ],
      "metadata": {
        "colab": {
          "base_uri": "https://localhost:8080/"
        },
        "id": "i9JJGH5jC-P3",
        "outputId": "07b4a60e-de97-4258-a085-29485c83ce7e"
      },
      "execution_count": null,
      "outputs": [
        {
          "output_type": "execute_result",
          "data": {
            "text/plain": [
              "array([[ 0.40894718, -0.26683279,  0.26625441, -0.20538351],\n",
              "       [ 0.47115108,  1.60604069,  2.38829654,  1.70063403]])"
            ]
          },
          "metadata": {},
          "execution_count": 11
        }
      ]
    },
    {
      "cell_type": "code",
      "source": [
        "row_sort = np.sort(arr2d, axis = 1)  # qatorlarga ko'ra tartiblash (default axis)\n",
        "row_sort"
      ],
      "metadata": {
        "colab": {
          "base_uri": "https://localhost:8080/"
        },
        "id": "_DDVGnaGE4CP",
        "outputId": "c91682a0-3f70-494c-d395-8868bd20a226"
      },
      "execution_count": null,
      "outputs": [
        {
          "output_type": "execute_result",
          "data": {
            "text/plain": [
              "array([[-0.20538351,  0.26625441,  0.47115108,  1.60604069],\n",
              "       [-0.26683279,  0.40894718,  1.70063403,  2.38829654]])"
            ]
          },
          "metadata": {},
          "execution_count": 14
        }
      ]
    },
    {
      "cell_type": "code",
      "source": [],
      "metadata": {
        "id": "kWrQq3VcFYeq"
      },
      "execution_count": null,
      "outputs": []
    }
  ]
}